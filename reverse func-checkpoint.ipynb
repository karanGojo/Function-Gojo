{
 "cells": [
  {
   "cell_type": "code",
   "execution_count": 7,
   "id": "4a99e55f",
   "metadata": {},
   "outputs": [
    {
     "name": "stdout",
     "output_type": "stream",
     "text": [
      " original string : 1234abcd\n",
      "reversed string dcba4321\n"
     ]
    }
   ],
   "source": [
    "#Write a Python program to reverse a string.\n",
    "def reverse(s):\n",
    "    str= \"\"\n",
    "    for i in s:\n",
    "        str= i+ str\n",
    "    return str\n",
    "s= \"1234abcd\"\n",
    "print(f\" original string :\", s)\n",
    "print(f\"reversed string:\",reverse(s))"
   ]
  },
  {
   "cell_type": "code",
   "execution_count": null,
   "id": "b7f7bc16",
   "metadata": {},
   "outputs": [],
   "source": []
  }
 ],
 "metadata": {
  "kernelspec": {
   "display_name": "Python 3 (ipykernel)",
   "language": "python",
   "name": "python3"
  },
  "language_info": {
   "codemirror_mode": {
    "name": "ipython",
    "version": 3
   },
   "file_extension": ".py",
   "mimetype": "text/x-python",
   "name": "python",
   "nbconvert_exporter": "python",
   "pygments_lexer": "ipython3",
   "version": "3.9.12"
  }
 },
 "nbformat": 4,
 "nbformat_minor": 5
}
