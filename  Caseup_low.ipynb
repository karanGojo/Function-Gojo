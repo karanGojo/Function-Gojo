{
 "cells": [
  {
   "cell_type": "code",
   "execution_count": 5,
   "id": "8ab03c7e",
   "metadata": {},
   "outputs": [
    {
     "name": "stdout",
     "output_type": "stream",
     "text": [
      "('lower case count:', {12}, 'upper case count:', {3})\n"
     ]
    }
   ],
   "source": [
    "#Write a Python function that accepts a string and calculate the number of upper case letters and lower case letters.\n",
    "\n",
    "\n",
    "def up_low(string):\n",
    "    uppers = 0\n",
    "    lowers = 0\n",
    "    for i in string:\n",
    "        if i.islower():\n",
    "            lowers+=1\n",
    "        elif i.isupper():\n",
    "            uppers+=1\n",
    "        else:\n",
    "            pass\n",
    "    return(f\"lower case count:\",{lowers},\"upper case count:\",{uppers})\n",
    "print(up_low('The quick Brow Fox'))"
   ]
  },
  {
   "cell_type": "code",
   "execution_count": null,
   "id": "77d836dc",
   "metadata": {},
   "outputs": [],
   "source": []
  }
 ],
 "metadata": {
  "kernelspec": {
   "display_name": "Python 3 (ipykernel)",
   "language": "python",
   "name": "python3"
  },
  "language_info": {
   "codemirror_mode": {
    "name": "ipython",
    "version": 3
   },
   "file_extension": ".py",
   "mimetype": "text/x-python",
   "name": "python",
   "nbconvert_exporter": "python",
   "pygments_lexer": "ipython3",
   "version": "3.9.12"
  }
 },
 "nbformat": 4,
 "nbformat_minor": 5
}
