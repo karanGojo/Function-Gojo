{
 "cells": [
  {
   "cell_type": "code",
   "execution_count": 2,
   "id": "c69b84d3",
   "metadata": {},
   "outputs": [
    {
     "name": "stdout",
     "output_type": "stream",
     "text": [
      "sum of Element in list: 20\n"
     ]
    }
   ],
   "source": [
    "#Write a Python function to sum all the numbers in a list.\n",
    "list_1= [8,2,3,0,7]\n",
    "def sum_list(list,size):\n",
    "    if(size==0):\n",
    "        return 0\n",
    "    else:\n",
    "        return list[size-1]+ sum_list(list,size-1)\n",
    "total= sum_list(list_1, len(list_1))\n",
    "print(f\"sum of Element in list:\",total)\n"
   ]
  },
  {
   "cell_type": "code",
   "execution_count": null,
   "id": "668531a5",
   "metadata": {},
   "outputs": [],
   "source": []
  },
  {
   "cell_type": "code",
   "execution_count": null,
   "id": "1c692707",
   "metadata": {},
   "outputs": [],
   "source": [
    "\n"
   ]
  },
  {
   "cell_type": "code",
   "execution_count": null,
   "id": "23b649a1",
   "metadata": {},
   "outputs": [],
   "source": []
  }
 ],
 "metadata": {
  "kernelspec": {
   "display_name": "Python 3 (ipykernel)",
   "language": "python",
   "name": "python3"
  },
  "language_info": {
   "codemirror_mode": {
    "name": "ipython",
    "version": 3
   },
   "file_extension": ".py",
   "mimetype": "text/x-python",
   "name": "python",
   "nbconvert_exporter": "python",
   "pygments_lexer": "ipython3",
   "version": "3.9.12"
  }
 },
 "nbformat": 4,
 "nbformat_minor": 5
}
